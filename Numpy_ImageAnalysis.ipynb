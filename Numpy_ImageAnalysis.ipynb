{
 "cells": [
  {
   "cell_type": "markdown",
   "id": "dc9dfe0a",
   "metadata": {},
   "source": [
    "# NumPy applications for Image Manupulation\n",
    "* The Python Imaging Library, **Pillow** (`PIL`) adds image processing capabilities to your Python interpreter.\n",
    "* The `Image` module provides a class with the same name which is used to represent a PIL image.\n",
    "* https://pillow.readthedocs.io/en/stable/\n",
    "* Matplotlib is a comprehensive library for creating static, animated, and interactive visualizations in Python.\n",
    "* https://matplotlib.org/"
   ]
  },
  {
   "cell_type": "code",
   "execution_count": null,
   "id": "6f38a041",
   "metadata": {},
   "outputs": [],
   "source": []
  },
  {
   "cell_type": "code",
   "execution_count": null,
   "id": "8059d2d0",
   "metadata": {},
   "outputs": [],
   "source": []
  },
  {
   "cell_type": "code",
   "execution_count": null,
   "id": "581b8303",
   "metadata": {},
   "outputs": [],
   "source": []
  },
  {
   "cell_type": "code",
   "execution_count": null,
   "id": "180dd759",
   "metadata": {},
   "outputs": [],
   "source": []
  },
  {
   "cell_type": "markdown",
   "id": "39f408b0",
   "metadata": {},
   "source": [
    "### Image.convert() Method returns a converted copy of this image\n",
    "* When translating a color image to greyscale (mode “L”)"
   ]
  },
  {
   "cell_type": "code",
   "execution_count": null,
   "id": "f7bb0bf5",
   "metadata": {},
   "outputs": [],
   "source": []
  },
  {
   "cell_type": "code",
   "execution_count": null,
   "id": "69326f72",
   "metadata": {},
   "outputs": [],
   "source": []
  },
  {
   "cell_type": "code",
   "execution_count": null,
   "id": "9eb0b7fa",
   "metadata": {},
   "outputs": [],
   "source": []
  },
  {
   "cell_type": "code",
   "execution_count": null,
   "id": "98680923",
   "metadata": {},
   "outputs": [],
   "source": []
  },
  {
   "cell_type": "markdown",
   "id": "fc708e1c",
   "metadata": {},
   "source": [
    "### Pixel values of most images ranging from `0 to 255`as the number stored as an 8 bit integer\n",
    "* zero is taken to be black, and 255 is taken to be white"
   ]
  },
  {
   "cell_type": "code",
   "execution_count": null,
   "id": "60996e0c",
   "metadata": {},
   "outputs": [],
   "source": []
  },
  {
   "cell_type": "code",
   "execution_count": null,
   "id": "037e5c72",
   "metadata": {},
   "outputs": [],
   "source": []
  },
  {
   "cell_type": "code",
   "execution_count": null,
   "id": "7e4cdece",
   "metadata": {},
   "outputs": [],
   "source": []
  },
  {
   "cell_type": "code",
   "execution_count": null,
   "id": "a712f450",
   "metadata": {},
   "outputs": [],
   "source": []
  },
  {
   "cell_type": "markdown",
   "id": "085dc3d8",
   "metadata": {},
   "source": [
    "### `Contours` can be explained simply as a curve joining all the continuous points (along the boundary), having same color or intensity. The contours are a useful tool for shape analysis and object detection and recognition."
   ]
  },
  {
   "cell_type": "code",
   "execution_count": null,
   "id": "96c05be7",
   "metadata": {},
   "outputs": [],
   "source": []
  },
  {
   "cell_type": "code",
   "execution_count": null,
   "id": "8715f3d4",
   "metadata": {},
   "outputs": [],
   "source": []
  },
  {
   "cell_type": "code",
   "execution_count": null,
   "id": "6a9c2d4b",
   "metadata": {},
   "outputs": [],
   "source": []
  },
  {
   "cell_type": "code",
   "execution_count": null,
   "id": "2d9140d8",
   "metadata": {},
   "outputs": [],
   "source": []
  },
  {
   "cell_type": "markdown",
   "id": "e703fbab",
   "metadata": {},
   "source": [
    "### Array flatten and Histogram Plot"
   ]
  },
  {
   "cell_type": "code",
   "execution_count": null,
   "id": "9f80b58f",
   "metadata": {},
   "outputs": [],
   "source": []
  },
  {
   "cell_type": "code",
   "execution_count": null,
   "id": "2c571f8d",
   "metadata": {},
   "outputs": [],
   "source": []
  },
  {
   "cell_type": "code",
   "execution_count": null,
   "id": "a477caa7",
   "metadata": {},
   "outputs": [],
   "source": []
  }
 ],
 "metadata": {
  "kernelspec": {
   "display_name": "Python 3",
   "language": "python",
   "name": "python3"
  },
  "language_info": {
   "codemirror_mode": {
    "name": "ipython",
    "version": 3
   },
   "file_extension": ".py",
   "mimetype": "text/x-python",
   "name": "python",
   "nbconvert_exporter": "python",
   "pygments_lexer": "ipython3",
   "version": "3.8.8"
  }
 },
 "nbformat": 4,
 "nbformat_minor": 5
}
